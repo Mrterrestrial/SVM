{
  "cells": [
    {
      "cell_type": "code",
      "execution_count": null,
      "metadata": {
        "id": "pQfkBQUHYabE"
      },
      "outputs": [],
      "source": [
        "#load the required packages\n",
        "\n",
        "%matplotlib inline  \n",
        "\n",
        "import numpy as np\n",
        "import matplotlib.pyplot as plt\n",
        "\n",
        "import sklearn\n",
        "from sklearn.datasets import fetch_openml"
      ]
    },
    {
      "cell_type": "code",
      "execution_count": null,
      "metadata": {
        "id": "Ci-ECDpJYabH"
      },
      "outputs": [],
      "source": [
        "#fix your ID (\"numero di matricola\") and the seed for random generator\n",
        "ID = 2070871\n",
        "np.random.seed(ID)"
      ]
    },
    {
      "cell_type": "markdown",
      "metadata": {
        "id": "f5rqka23YabH"
      },
      "source": [
        "Now let's load the dataset. 'data' contains the input, 'target' contains the label. We normalize the data by dividing each value by 255 so that each value is in [0,1]"
      ]
    },
    {
      "cell_type": "code",
      "execution_count": null,
      "metadata": {
        "id": "8g71Jx9lYabI"
      },
      "outputs": [],
      "source": [
        "#load the MNIST dataset and let's normalize the features so that each value is in [0,1]\n",
        "mnist = fetch_openml('mnist_784', version=1)\n",
        "# rescale the data\n",
        "X, y = mnist.data.values / 255., mnist.target.values"
      ]
    },
    {
      "cell_type": "markdown",
      "metadata": {
        "id": "fyrJU1TxYabJ"
      },
      "source": [
        "Now split into training and test. We keep 500 samples in the training set. Make sure that each label is present at least 10 times\n",
        "in training. If it is not, then keep adding permutations to the initial data until this \n",
        "happens.\n",
        "\n",
        "**IMPORTANT**: if you cannot run the SVM with 500 samples or 1000 samples (see below), try with a smaller number of samples (e.g. 200 here and 400 below)."
      ]
    },
    {
      "cell_type": "code",
      "execution_count": null,
      "metadata": {
        "id": "NyOFuIilYabJ",
        "outputId": "f34615fe-b117-40c4-8607-d6fe904a6ccd"
      },
      "outputs": [
        {
          "name": "stdout",
          "output_type": "stream",
          "text": [
            "Labels and frequencies in training dataset: \n"
          ]
        },
        {
          "data": {
            "text/plain": [
              "(array(['0', '1', '2', '3', '4', '5', '6', '7', '8', '9'], dtype=object),\n",
              " array([55, 44, 43, 53, 50, 49, 50, 60, 44, 52]))"
            ]
          },
          "execution_count": 4,
          "metadata": {},
          "output_type": "execute_result"
        }
      ],
      "source": [
        "#random permute the data and split into training and test taking the first 500\n",
        "#data samples as training and the rests as test\n",
        "permutation = np.random.permutation(X.shape[0])\n",
        "\n",
        "X = X[permutation]\n",
        "y = y[permutation]\n",
        "\n",
        "m_training = 500\n",
        "\n",
        "X_train, X_test = X[:m_training], X[m_training:]\n",
        "y_train, y_test = y[:m_training], y[m_training:]\n",
        "\n",
        "print(\"Labels and frequencies in training dataset: \")\n",
        "np.unique(y_train, return_counts = True)"
      ]
    },
    {
      "cell_type": "markdown",
      "metadata": {
        "id": "No64x023YabK"
      },
      "source": [
        "We now provide a function to print an image in the dataset and the corresponding true label given the index of the image in the dataset."
      ]
    },
    {
      "cell_type": "code",
      "execution_count": null,
      "metadata": {
        "id": "-BznjO06YabL"
      },
      "outputs": [],
      "source": [
        "#function for plotting a digit and printing the corresponding labe\n",
        "def plot_digit(X_matrix, labels, index):\n",
        "    print(\"INPUT:\")\n",
        "    plt.imshow(\n",
        "        X_matrix[index].reshape(28,28),\n",
        "        cmap          = plt.cm.gray_r,\n",
        "        interpolation = \"nearest\"\n",
        "    )\n",
        "    plt.show()\n",
        "    print(\"LABEL: %s\" % labels[index])\n",
        "    return"
      ]
    },
    {
      "cell_type": "markdown",
      "metadata": {
        "id": "eVeXn7n2YabM"
      },
      "source": [
        "As an example, let's print the 100-th image in X_train and the 40,000-th image in X_test and their true labels."
      ]
    },
    {
      "cell_type": "code",
      "execution_count": null,
      "metadata": {
        "id": "uOjtoDo_YabM",
        "outputId": "46a5fd77-d692-44cb-8475-9a02eaaf7487"
      },
      "outputs": [
        {
          "name": "stdout",
          "output_type": "stream",
          "text": [
            "INPUT:\n"
          ]
        },
        {
          "data": {
            "image/png": "[encoded data removed]",
            "text/plain": [
              "<Figure size 432x288 with 1 Axes>"
            ]
          },
          "metadata": {
            "needs_background": "light"
          },
          "output_type": "display_data"
        },
        {
          "name": "stdout",
          "output_type": "stream",
          "text": [
            "LABEL: 3\n",
            "INPUT:\n"
          ]
        },
        {
          "data": {
            "image/png": "[encoded data removed]",
            "text/plain": [
              "<Figure size 432x288 with 1 Axes>"
            ]
          },
          "metadata": {
            "needs_background": "light"
          },
          "output_type": "display_data"
        },
        {
          "name": "stdout",
          "output_type": "stream",
          "text": [
            "LABEL: 4\n"
          ]
        }
      ],
      "source": [
        "#let's try the plotting function\n",
        "plot_digit(X_train,y_train,110)\n",
        "plot_digit(X_test,y_test,42200)"
      ]
    },
    {
      "cell_type": "markdown",
      "metadata": {
        "id": "o9hYLVoXYabN"
      },
      "source": [
        "## TO DO 1\n",
        "Run SVM with 5-fold cross validation to pick the best kernel and values of parameters. We provide some potential choice for parameters, but change the grid if needed (e.g., it takes too long). For the SVM for classification use SVC from sklearn.svm; for the grid search we suggest you use GridSearchCV from sklearn.model_selection, but you can implement your own cross-validation for model selection if you prefer.\n",
        "\n",
        "Finally, print the best parameters used as well as the score obtained by the best model"
      ]
    },
    {
      "cell_type": "code",
      "execution_count": null,
      "metadata": {
        "id": "z9i_KkPTYabN",
        "outputId": "f5ed6020-34b6-4347-d644-cb7a941eeb4a"
      },
      "outputs": [
        {
          "data": {
            "text/plain": [
              "GridSearchCV(cv=5, estimator=SVC(),\n",
              "             param_grid=[{'C': [1, 10, 100], 'kernel': ['linear']},\n",
              "                         {'C': [1, 10, 100], 'gamma': [0.01, 0.1, 1.0],\n",
              "                          'kernel': ['rbf']},\n",
              "                         {'C': [1, 10, 100], 'degree': [2],\n",
              "                          'gamma': [0.01, 0.1, 1.0], 'kernel': ['poly']}])"
            ]
          },
          "execution_count": 7,
          "metadata": {},
          "output_type": "execute_result"
        }
      ],
      "source": [
        "from sklearn.model_selection import GridSearchCV\n",
        "from sklearn.svm import SVC\n",
        "import pandas as pd\n",
        "\n",
        "param_grid = [\n",
        "    {'C': [1, 10, 100], 'kernel': ['linear']},\n",
        "    {'C': [1, 10, 100], 'gamma': [0.01,0.1,1.], 'kernel': ['rbf']},\n",
        "    {'C': [1, 10, 100], 'gamma': [0.01,0.1,1.], 'kernel': ['poly'], 'degree':[2]}\n",
        " ]\n",
        "clf = GridSearchCV(SVC(),param_grid , cv=5, return_train_score =False)\n",
        "\n",
        "clf.fit(X_train, y_train)"
      ]
    },
    {
      "cell_type": "code",
      "execution_count": null,
      "metadata": {
        "id": "QLOtep_6YabO",
        "outputId": "fe4d3b8a-7f47-4ad4-b111-af5b8b648674"
      },
      "outputs": [
        {
          "data": {
            "text/html": [
              "<div>\n",
              "<style scoped>\n",
              "    .dataframe tbody tr th:only-of-type {\n",
              "        vertical-align: middle;\n",
              "    }\n",
              "\n",
              "    .dataframe tbody tr th {\n",
              "        vertical-align: top;\n",
              "    }\n",
              "\n",
              "    .dataframe thead th {\n",
              "        text-align: right;\n",
              "    }\n",
              "</style>\n",
              "<table border=\"1\" class=\"dataframe\">\n",
              "  <thead>\n",
              "    <tr style=\"text-align: right;\">\n",
              "      <th></th>\n",
              "      <th>param_kernel</th>\n",
              "      <th>param_C</th>\n",
              "      <th>param_degree</th>\n",
              "      <th>mean_test_score</th>\n",
              "    </tr>\n",
              "  </thead>\n",
              "  <tbody>\n",
              "    <tr>\n",
              "      <th>0</th>\n",
              "      <td>linear</td>\n",
              "      <td>1</td>\n",
              "      <td>NaN</td>\n",
              "      <td>0.838</td>\n",
              "    </tr>\n",
              "    <tr>\n",
              "      <th>1</th>\n",
              "      <td>linear</td>\n",
              "      <td>10</td>\n",
              "      <td>NaN</td>\n",
              "      <td>0.838</td>\n",
              "    </tr>\n",
              "    <tr>\n",
              "      <th>2</th>\n",
              "      <td>linear</td>\n",
              "      <td>100</td>\n",
              "      <td>NaN</td>\n",
              "      <td>0.838</td>\n",
              "    </tr>\n",
              "    <tr>\n",
              "      <th>3</th>\n",
              "      <td>rbf</td>\n",
              "      <td>1</td>\n",
              "      <td>NaN</td>\n",
              "      <td>0.850</td>\n",
              "    </tr>\n",
              "    <tr>\n",
              "      <th>4</th>\n",
              "      <td>rbf</td>\n",
              "      <td>1</td>\n",
              "      <td>NaN</td>\n",
              "      <td>0.528</td>\n",
              "    </tr>\n",
              "    <tr>\n",
              "      <th>5</th>\n",
              "      <td>rbf</td>\n",
              "      <td>1</td>\n",
              "      <td>NaN</td>\n",
              "      <td>0.120</td>\n",
              "    </tr>\n",
              "    <tr>\n",
              "      <th>6</th>\n",
              "      <td>rbf</td>\n",
              "      <td>10</td>\n",
              "      <td>NaN</td>\n",
              "      <td>0.868</td>\n",
              "    </tr>\n",
              "    <tr>\n",
              "      <th>7</th>\n",
              "      <td>rbf</td>\n",
              "      <td>10</td>\n",
              "      <td>NaN</td>\n",
              "      <td>0.540</td>\n",
              "    </tr>\n",
              "    <tr>\n",
              "      <th>8</th>\n",
              "      <td>rbf</td>\n",
              "      <td>10</td>\n",
              "      <td>NaN</td>\n",
              "      <td>0.124</td>\n",
              "    </tr>\n",
              "    <tr>\n",
              "      <th>9</th>\n",
              "      <td>rbf</td>\n",
              "      <td>100</td>\n",
              "      <td>NaN</td>\n",
              "      <td>0.868</td>\n",
              "    </tr>\n",
              "    <tr>\n",
              "      <th>10</th>\n",
              "      <td>rbf</td>\n",
              "      <td>100</td>\n",
              "      <td>NaN</td>\n",
              "      <td>0.540</td>\n",
              "    </tr>\n",
              "    <tr>\n",
              "      <th>11</th>\n",
              "      <td>rbf</td>\n",
              "      <td>100</td>\n",
              "      <td>NaN</td>\n",
              "      <td>0.124</td>\n",
              "    </tr>\n",
              "    <tr>\n",
              "      <th>12</th>\n",
              "      <td>poly</td>\n",
              "      <td>1</td>\n",
              "      <td>2</td>\n",
              "      <td>0.814</td>\n",
              "    </tr>\n",
              "    <tr>\n",
              "      <th>13</th>\n",
              "      <td>poly</td>\n",
              "      <td>1</td>\n",
              "      <td>2</td>\n",
              "      <td>0.850</td>\n",
              "    </tr>\n",
              "    <tr>\n",
              "      <th>14</th>\n",
              "      <td>poly</td>\n",
              "      <td>1</td>\n",
              "      <td>2</td>\n",
              "      <td>0.850</td>\n",
              "    </tr>\n",
              "    <tr>\n",
              "      <th>15</th>\n",
              "      <td>poly</td>\n",
              "      <td>10</td>\n",
              "      <td>2</td>\n",
              "      <td>0.854</td>\n",
              "    </tr>\n",
              "    <tr>\n",
              "      <th>16</th>\n",
              "      <td>poly</td>\n",
              "      <td>10</td>\n",
              "      <td>2</td>\n",
              "      <td>0.850</td>\n",
              "    </tr>\n",
              "    <tr>\n",
              "      <th>17</th>\n",
              "      <td>poly</td>\n",
              "      <td>10</td>\n",
              "      <td>2</td>\n",
              "      <td>0.850</td>\n",
              "    </tr>\n",
              "    <tr>\n",
              "      <th>18</th>\n",
              "      <td>poly</td>\n",
              "      <td>100</td>\n",
              "      <td>2</td>\n",
              "      <td>0.850</td>\n",
              "    </tr>\n",
              "    <tr>\n",
              "      <th>19</th>\n",
              "      <td>poly</td>\n",
              "      <td>100</td>\n",
              "      <td>2</td>\n",
              "      <td>0.850</td>\n",
              "    </tr>\n",
              "    <tr>\n",
              "      <th>20</th>\n",
              "      <td>poly</td>\n",
              "      <td>100</td>\n",
              "      <td>2</td>\n",
              "      <td>0.850</td>\n",
              "    </tr>\n",
              "  </tbody>\n",
              "</table>\n",
              "</div>"
            ],
            "text/plain": [
              "   param_kernel param_C param_degree  mean_test_score\n",
              "0        linear       1          NaN            0.838\n",
              "1        linear      10          NaN            0.838\n",
              "2        linear     100          NaN            0.838\n",
              "3           rbf       1          NaN            0.850\n",
              "4           rbf       1          NaN            0.528\n",
              "5           rbf       1          NaN            0.120\n",
              "6           rbf      10          NaN            0.868\n",
              "7           rbf      10          NaN            0.540\n",
              "8           rbf      10          NaN            0.124\n",
              "9           rbf     100          NaN            0.868\n",
              "10          rbf     100          NaN            0.540\n",
              "11          rbf     100          NaN            0.124\n",
              "12         poly       1            2            0.814\n",
              "13         poly       1            2            0.850\n",
              "14         poly       1            2            0.850\n",
              "15         poly      10            2            0.854\n",
              "16         poly      10            2            0.850\n",
              "17         poly      10            2            0.850\n",
              "18         poly     100            2            0.850\n",
              "19         poly     100            2            0.850\n",
              "20         poly     100            2            0.850"
            ]
          },
          "execution_count": 8,
          "metadata": {},
          "output_type": "execute_result"
        }
      ],
      "source": [
        "df = pd.DataFrame(clf.cv_results_)\n",
        "df[['param_kernel','param_C' ,'param_degree' ,'mean_test_score']]"
      ]
    },
    {
      "cell_type": "code",
      "execution_count": null,
      "metadata": {
        "id": "rfxyAQrXYabP",
        "outputId": "6f0f2ec1-a21f-4128-d5e4-758c61e04c62"
      },
      "outputs": [
        {
          "name": "stdout",
          "output_type": "stream",
          "text": [
            "best Parameter is : {'C': 10, 'gamma': 0.01, 'kernel': 'rbf'}\n",
            "best Score is : 0.868\n"
          ]
        }
      ],
      "source": [
        "print(f'best Parameter is : {clf.best_params_}')\n",
        "print(f'best Score is : {clf.best_score_}')"
      ]
    },
    {
      "cell_type": "markdown",
      "metadata": {
        "id": "YH0DfmhsYabP"
      },
      "source": [
        "## TO DO 2\n",
        "For the \"best\" SVM kernel and choice of parameters from above, train the model on the entire training set and measure the training error. Also make predictions on the test set and measure the test error. Print the training and the test error."
      ]
    },
    {
      "cell_type": "code",
      "execution_count": null,
      "metadata": {
        "id": "OskyIpxVYabQ",
        "outputId": "c4afbed7-aa11-4e3d-ead6-e850a5b52609"
      },
      "outputs": [
        {
          "name": "stdout",
          "output_type": "stream",
          "text": [
            "Best SVM training error: 0.000000\n",
            "Best SVM test error: 0.105496\n"
          ]
        }
      ],
      "source": [
        "#get training and test error for the best SVM model from CV\n",
        "best_SVM = SVC(C= 10, gamma= 0.01, kernel= 'rbf')\n",
        "\n",
        "# fit the model on the entire training set\n",
        "# ADD CODE\n",
        "best_SVM.fit(X_train, y_train)\n",
        "\n",
        "#get the training and test error\n",
        "training_error = 1. - best_SVM.score(X_train,y_train)\n",
        "test_error = 1. - best_SVM.score(X_test,y_test)\n",
        "\n",
        "print (\"Best SVM training error: %f\" % training_error)\n",
        "print (\"Best SVM test error: %f\" % test_error)"
      ]
    },
    {
      "cell_type": "markdown",
      "metadata": {
        "id": "sEpku0KJYabQ"
      },
      "source": [
        "## Use logistic regression for comparison\n",
        "\n",
        "## TO DO 3\n",
        "\n",
        "Just for comparison let's also use logistic regression, first with the default values of the parameter for regularization and then with cross-validation to fix the value of the parameters. For cross validation, use 5-fold cross validation and the default values of the regularization parameters for the function linear_model.LogisticRegressionCV(...).\n",
        "\n",
        "Note: during training you may receive a \"ConvergenceWarning\" that indicates that the logistic regression solver did not converge to the optimal result. Given the scope of the notebook, we can ignore such warning but in real-world scenarios you should take corrective measures such as increasing the number of training iterations and/or the runtime for training or picking a different optimizer"
      ]
    },
    {
      "cell_type": "code",
      "execution_count": null,
      "metadata": {
        "id": "RglTm-QZYabR",
        "outputId": "6dbaa44a-7210-4600-fe9e-b815fa99dce7"
      },
      "outputs": [
        {
          "name": "stderr",
          "output_type": "stream",
          "text": [
            "/opt/anaconda3/lib/python3.9/site-packages/sklearn/linear_model/_logistic.py:814: ConvergenceWarning: lbfgs failed to converge (status=1):\n",
            "STOP: TOTAL NO. of ITERATIONS REACHED LIMIT.\n",
            "\n",
            "Increase the number of iterations (max_iter) or scale the data as shown in:\n",
            "    https://scikit-learn.org/stable/modules/preprocessing.html\n",
            "Please also refer to the documentation for alternative solver options:\n",
            "    https://scikit-learn.org/stable/modules/linear_model.html#logistic-regression\n",
            "  n_iter_i = _check_optimize_result(\n"
          ]
        },
        {
          "name": "stdout",
          "output_type": "stream",
          "text": [
            "Best logistic regression training error: 0.000000\n",
            "Best logistic regression test error: 0.156331\n"
          ]
        },
        {
          "name": "stderr",
          "output_type": "stream",
          "text": [
            "/opt/anaconda3/lib/python3.9/site-packages/sklearn/linear_model/_logistic.py:814: ConvergenceWarning: lbfgs failed to converge (status=1):\n",
            "STOP: TOTAL NO. of ITERATIONS REACHED LIMIT.\n",
            "\n",
            "Increase the number of iterations (max_iter) or scale the data as shown in:\n",
            "    https://scikit-learn.org/stable/modules/preprocessing.html\n",
            "Please also refer to the documentation for alternative solver options:\n",
            "    https://scikit-learn.org/stable/modules/linear_model.html#logistic-regression\n",
            "  n_iter_i = _check_optimize_result(\n",
            "/opt/anaconda3/lib/python3.9/site-packages/sklearn/linear_model/_logistic.py:814: ConvergenceWarning: lbfgs failed to converge (status=1):\n",
            "STOP: TOTAL NO. of ITERATIONS REACHED LIMIT.\n",
            "\n",
            "Increase the number of iterations (max_iter) or scale the data as shown in:\n",
            "    https://scikit-learn.org/stable/modules/preprocessing.html\n",
            "Please also refer to the documentation for alternative solver options:\n",
            "    https://scikit-learn.org/stable/modules/linear_model.html#logistic-regression\n",
            "  n_iter_i = _check_optimize_result(\n",
            "/opt/anaconda3/lib/python3.9/site-packages/sklearn/linear_model/_logistic.py:814: ConvergenceWarning: lbfgs failed to converge (status=1):\n",
            "STOP: TOTAL NO. of ITERATIONS REACHED LIMIT.\n",
            "\n",
            "Increase the number of iterations (max_iter) or scale the data as shown in:\n",
            "    https://scikit-learn.org/stable/modules/preprocessing.html\n",
            "Please also refer to the documentation for alternative solver options:\n",
            "    https://scikit-learn.org/stable/modules/linear_model.html#logistic-regression\n",
            "  n_iter_i = _check_optimize_result(\n",
            "/opt/anaconda3/lib/python3.9/site-packages/sklearn/linear_model/_logistic.py:814: ConvergenceWarning: lbfgs failed to converge (status=1):\n",
            "STOP: TOTAL NO. of ITERATIONS REACHED LIMIT.\n",
            "\n",
            "Increase the number of iterations (max_iter) or scale the data as shown in:\n",
            "    https://scikit-learn.org/stable/modules/preprocessing.html\n",
            "Please also refer to the documentation for alternative solver options:\n",
            "    https://scikit-learn.org/stable/modules/linear_model.html#logistic-regression\n",
            "  n_iter_i = _check_optimize_result(\n",
            "/opt/anaconda3/lib/python3.9/site-packages/sklearn/linear_model/_logistic.py:814: ConvergenceWarning: lbfgs failed to converge (status=1):\n",
            "STOP: TOTAL NO. of ITERATIONS REACHED LIMIT.\n",
            "\n",
            "Increase the number of iterations (max_iter) or scale the data as shown in:\n",
            "    https://scikit-learn.org/stable/modules/preprocessing.html\n",
            "Please also refer to the documentation for alternative solver options:\n",
            "    https://scikit-learn.org/stable/modules/linear_model.html#logistic-regression\n",
            "  n_iter_i = _check_optimize_result(\n"
          ]
        },
        {
          "name": "stdout",
          "output_type": "stream",
          "text": [
            "Best logistic regression training error with CV: 0.002000\n",
            "Best logistic regression test error with CV: 0.153237\n"
          ]
        },
        {
          "name": "stderr",
          "output_type": "stream",
          "text": [
            "/opt/anaconda3/lib/python3.9/site-packages/sklearn/linear_model/_logistic.py:814: ConvergenceWarning: lbfgs failed to converge (status=1):\n",
            "STOP: TOTAL NO. of ITERATIONS REACHED LIMIT.\n",
            "\n",
            "Increase the number of iterations (max_iter) or scale the data as shown in:\n",
            "    https://scikit-learn.org/stable/modules/preprocessing.html\n",
            "Please also refer to the documentation for alternative solver options:\n",
            "    https://scikit-learn.org/stable/modules/linear_model.html#logistic-regression\n",
            "  n_iter_i = _check_optimize_result(\n"
          ]
        }
      ],
      "source": [
        "from sklearn import linear_model\n",
        "\n",
        "lr = linear_model.LogisticRegression()\n",
        "# fit the model on the training data\n",
        "lr.fit(X_train, y_train)\n",
        "\n",
        "#compute training and test error for model above\n",
        "training_error = 1.-lr.score(X_train, y_train)\n",
        "test_error = 1.-lr.score(X_test, y_test)\n",
        "\n",
        "print (\"Best logistic regression training error: %f\" % training_error)\n",
        "print (\"Best logistic regression test error: %f\" % test_error)\n",
        "\n",
        "#logistic regression with 5-fold CV: you can use use linear_model.LogisticRegressionCV\n",
        "# use 5-fold CV to find the best choice of the parameter, than train\n",
        "\n",
        "from sklearn.linear_model import LogisticRegressionCV\n",
        "# the model on the entire training set\n",
        "lr_cv =LogisticRegressionCV(cv=5).fit(X_train, y_train)\n",
        "training_error_cv = 1.-lr_cv.score(X_train, y_train)\n",
        "test_error_cv = 1.-lr_cv.score(X_test, y_test)\n",
        "\n",
        "print (\"Best logistic regression training error with CV: %f\" % training_error_cv)\n",
        "print (\"Best logistic regression test error with CV: %f\" % test_error_cv)"
      ]
    },
    {
      "cell_type": "markdown",
      "metadata": {
        "id": "LAJOOr2JYabS"
      },
      "source": [
        "## TO DO 5\n",
        "Write the code that finds and plots a digit that is missclassified by logistic regression (optimized for the regularization parameter) and correctly classified by the \"best\" SVM."
      ]
    },
    {
      "cell_type": "code",
      "execution_count": null,
      "metadata": {
        "id": "uJJHHWJeYabS",
        "outputId": "b4c7017f-cd86-474a-b623-5082749446b4"
      },
      "outputs": [
        {
          "data": {
            "text/plain": [
              "(-0.5, 27.5, 27.5, -0.5)"
            ]
          },
          "execution_count": 13,
          "metadata": {},
          "output_type": "execute_result"
        },
        {
          "data": {
            "image/png": "[encoded data removed]",
            "text/plain": [
              "<Figure size 1080x576 with 12 Axes>"
            ]
          },
          "metadata": {
            "needs_background": "light"
          },
          "output_type": "display_data"
        }
      ],
      "source": [
        "# Create the confusion matrix for the dev data\n",
        "from sklearn.metrics import confusion_matrix\n",
        "import matplotlib.pyplot as plt\n",
        "\n",
        "lr_predictions = lr.predict(X_test)\n",
        "lr_confusion = confusion_matrix(y_test, lr_predictions)\n",
        "best_SVM_predictions = best_SVM.predict(X_test)\n",
        "best_SVM_confusion = confusion_matrix(y_test, best_SVM_predictions)\n",
        "\n",
        "\n",
        "misclassifiedIndexes = np.squeeze(np.where(y_test!=lr_predictions))\n",
        "corrclassifiedIndexes  = np.squeeze(np.where(y_test==best_SVM_predictions))\n",
        "#I just want to plot first 12 itersections\n",
        "Indexes = np.intersect1d(corrclassifiedIndexes, misclassifiedIndexes)[:12]\n",
        "\n",
        "\n",
        "fig, ax = plt.subplots(4,3,figsize=(15,8))\n",
        "ax = ax.ravel()\n",
        "for i, badIndex in enumerate(Indexes):\n",
        "    ax[i].imshow(np.reshape(X_test[badIndex], (28, 28)), cmap=plt.cm.gray)\n",
        "    ax[i].set_title(f'LR Predict : {lr_predictions[badIndex]}, '\n",
        "                    f'Best_SVM Predict : {best_SVM_predictions[badIndex]}', fontsize = 10)\n",
        "    ax[i].set(frame_on=False)\n",
        "    ax[i].axis('off')\n",
        "plt.box(False)\n",
        "plt.axis('off')"
      ]
    },
    {
      "cell_type": "markdown",
      "metadata": {
        "id": "D5mp9NLEYabT"
      },
      "source": [
        "## More data\n",
        "Now let's do the same but using 1000 data points for training. \n",
        "\n",
        "## TO DO 6\n",
        "Repeat the entire analysis above using 1000 samples. Of course you can copy the code from above (but no need to copy markdown comments)."
      ]
    },
    {
      "cell_type": "code",
      "execution_count": null,
      "metadata": {
        "id": "eIlyO4UgYabT",
        "outputId": "a5b03c84-cdb0-4e2c-c05d-f34193fa9730"
      },
      "outputs": [
        {
          "name": "stdout",
          "output_type": "stream",
          "text": [
            "best Parameter is : {'C': 10, 'gamma': 0.01, 'kernel': 'rbf'}\n",
            "best Score is : 0.901\n"
          ]
        }
      ],
      "source": [
        "from sklearn.model_selection import GridSearchCV\n",
        "from sklearn.svm import SVC\n",
        "import pandas as pd\n",
        "\n",
        "m_training = 1000\n",
        "\n",
        "X_train, X_test = X[:m_training], X[m_training:]\n",
        "y_train, y_test = y[:m_training], y[m_training:]\n",
        "np.unique(y_train, return_counts = True)\n",
        "\n",
        "param_grid = [\n",
        "    {'C': [1, 10, 100], 'kernel': ['linear']},\n",
        "    {'C': [1, 10, 100], 'gamma': [0.01,0.1,1.], 'kernel': ['rbf']},\n",
        "    {'C': [1, 10, 100], 'gamma': [0.01,0.1,1.], 'kernel': ['poly'], 'degree':[2]}\n",
        " ]\n",
        "clf = GridSearchCV(SVC(),param_grid , cv=5, return_train_score =False)\n",
        "\n",
        "clf.fit(X_train, y_train)\n",
        "print(f'best Parameter is : {clf.best_params_}')\n",
        "print(f'best Score is : {clf.best_score_}')"
      ]
    },
    {
      "cell_type": "code",
      "execution_count": null,
      "metadata": {
        "id": "QcbDF6rvYabU",
        "outputId": "78063229-ff86-4aef-9730-33fff2c811df"
      },
      "outputs": [
        {
          "name": "stdout",
          "output_type": "stream",
          "text": [
            "Best SVM training error: 0.000000\n",
            "Best SVM test error: 0.079667\n"
          ]
        }
      ],
      "source": [
        "#get training and test error for the best SVM model from CV\n",
        "best_SVM = SVC(C= 10, gamma= 0.01, kernel= 'rbf')\n",
        "\n",
        "# fit the model on the entire training set\n",
        "# ADD CODE\n",
        "best_SVM.fit(X_train, y_train)\n",
        "\n",
        "#get the training and test error\n",
        "training_error = 1. - best_SVM.score(X_train,y_train)\n",
        "test_error = 1. - best_SVM.score(X_test,y_test)\n",
        "\n",
        "print (\"Best SVM training error: %f\" % training_error)\n",
        "print (\"Best SVM test error: %f\" % test_error)"
      ]
    },
    {
      "cell_type": "code",
      "execution_count": null,
      "metadata": {
        "id": "460tvQdOYabU",
        "outputId": "41bf6831-6fc0-4e40-87f8-c5c74c7181bb"
      },
      "outputs": [
        {
          "name": "stderr",
          "output_type": "stream",
          "text": [
            "/opt/anaconda3/lib/python3.9/site-packages/sklearn/linear_model/_logistic.py:814: ConvergenceWarning: lbfgs failed to converge (status=1):\n",
            "STOP: TOTAL NO. of ITERATIONS REACHED LIMIT.\n",
            "\n",
            "Increase the number of iterations (max_iter) or scale the data as shown in:\n",
            "    https://scikit-learn.org/stable/modules/preprocessing.html\n",
            "Please also refer to the documentation for alternative solver options:\n",
            "    https://scikit-learn.org/stable/modules/linear_model.html#logistic-regression\n",
            "  n_iter_i = _check_optimize_result(\n"
          ]
        },
        {
          "name": "stdout",
          "output_type": "stream",
          "text": [
            "Best logistic regression training error: 0.000000\n",
            "Best logistic regression test error: 0.133203\n"
          ]
        },
        {
          "name": "stderr",
          "output_type": "stream",
          "text": [
            "/opt/anaconda3/lib/python3.9/site-packages/sklearn/linear_model/_logistic.py:814: ConvergenceWarning: lbfgs failed to converge (status=1):\n",
            "STOP: TOTAL NO. of ITERATIONS REACHED LIMIT.\n",
            "\n",
            "Increase the number of iterations (max_iter) or scale the data as shown in:\n",
            "    https://scikit-learn.org/stable/modules/preprocessing.html\n",
            "Please also refer to the documentation for alternative solver options:\n",
            "    https://scikit-learn.org/stable/modules/linear_model.html#logistic-regression\n",
            "  n_iter_i = _check_optimize_result(\n",
            "/opt/anaconda3/lib/python3.9/site-packages/sklearn/linear_model/_logistic.py:814: ConvergenceWarning: lbfgs failed to converge (status=1):\n",
            "STOP: TOTAL NO. of ITERATIONS REACHED LIMIT.\n",
            "\n",
            "Increase the number of iterations (max_iter) or scale the data as shown in:\n",
            "    https://scikit-learn.org/stable/modules/preprocessing.html\n",
            "Please also refer to the documentation for alternative solver options:\n",
            "    https://scikit-learn.org/stable/modules/linear_model.html#logistic-regression\n",
            "  n_iter_i = _check_optimize_result(\n",
            "/opt/anaconda3/lib/python3.9/site-packages/sklearn/linear_model/_logistic.py:814: ConvergenceWarning: lbfgs failed to converge (status=1):\n",
            "STOP: TOTAL NO. of ITERATIONS REACHED LIMIT.\n",
            "\n",
            "Increase the number of iterations (max_iter) or scale the data as shown in:\n",
            "    https://scikit-learn.org/stable/modules/preprocessing.html\n",
            "Please also refer to the documentation for alternative solver options:\n",
            "    https://scikit-learn.org/stable/modules/linear_model.html#logistic-regression\n",
            "  n_iter_i = _check_optimize_result(\n",
            "/opt/anaconda3/lib/python3.9/site-packages/sklearn/linear_model/_logistic.py:814: ConvergenceWarning: lbfgs failed to converge (status=1):\n",
            "STOP: TOTAL NO. of ITERATIONS REACHED LIMIT.\n",
            "\n",
            "Increase the number of iterations (max_iter) or scale the data as shown in:\n",
            "    https://scikit-learn.org/stable/modules/preprocessing.html\n",
            "Please also refer to the documentation for alternative solver options:\n",
            "    https://scikit-learn.org/stable/modules/linear_model.html#logistic-regression\n",
            "  n_iter_i = _check_optimize_result(\n",
            "/opt/anaconda3/lib/python3.9/site-packages/sklearn/linear_model/_logistic.py:814: ConvergenceWarning: lbfgs failed to converge (status=1):\n",
            "STOP: TOTAL NO. of ITERATIONS REACHED LIMIT.\n",
            "\n",
            "Increase the number of iterations (max_iter) or scale the data as shown in:\n",
            "    https://scikit-learn.org/stable/modules/preprocessing.html\n",
            "Please also refer to the documentation for alternative solver options:\n",
            "    https://scikit-learn.org/stable/modules/linear_model.html#logistic-regression\n",
            "  n_iter_i = _check_optimize_result(\n"
          ]
        },
        {
          "name": "stdout",
          "output_type": "stream",
          "text": [
            "Best logistic regression training error with CV: 0.065000\n",
            "Best logistic regression test error with CV: 0.130290\n"
          ]
        }
      ],
      "source": [
        "lr = linear_model.LogisticRegression()\n",
        "# fit the model on the training data\n",
        "lr.fit(X_train, y_train)\n",
        "\n",
        "#compute training and test error for model above\n",
        "training_error = 1.-lr.score(X_train, y_train)\n",
        "test_error = 1.-lr.score(X_test, y_test)\n",
        "\n",
        "print (\"Best logistic regression training error: %f\" % training_error)\n",
        "print (\"Best logistic regression test error: %f\" % test_error)\n",
        "\n",
        "#logistic regression with 5-fold CV: you can use use linear_model.LogisticRegressionCV\n",
        "# use 5-fold CV to find the best choice of the parameter, than train\n",
        "\n",
        "from sklearn.linear_model import LogisticRegressionCV\n",
        "# the model on the entire training set\n",
        "lr_cv =LogisticRegressionCV(cv=5).fit(X_train, y_train)\n",
        "training_error_cv = 1.-lr_cv.score(X_train, y_train)\n",
        "test_error_cv = 1.-lr_cv.score(X_test, y_test)\n",
        "\n",
        "print (\"Best logistic regression training error with CV: %f\" % training_error_cv)\n",
        "print (\"Best logistic regression test error with CV: %f\" % test_error_cv)"
      ]
    }
  ],
  "metadata": {
    "kernelspec": {
      "display_name": "Python 3 (ipykernel)",
      "language": "python",
      "name": "python3"
    },
    "language_info": {
      "codemirror_mode": {
        "name": "ipython",
        "version": 3
      },
      "file_extension": ".py",
      "mimetype": "text/x-python",
      "name": "python",
      "nbconvert_exporter": "python",
      "pygments_lexer": "ipython3",
      "version": "3.9.12"
    },
    "colab": {
      "provenance": []
    }
  },
  "nbformat": 4,
  "nbformat_minor": 0
}